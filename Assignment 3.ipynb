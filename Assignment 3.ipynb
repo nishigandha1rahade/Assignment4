{
 "cells": [
  {
   "cell_type": "code",
   "execution_count": 1,
   "id": "1c46178e-9106-458d-a59c-c42a15084684",
   "metadata": {},
   "outputs": [],
   "source": [
    "#For loop"
   ]
  },
  {
   "cell_type": "markdown",
   "id": "986745f8-e29f-41e4-9904-e4be97b1edcb",
   "metadata": {},
   "source": [
    "Basic Level:\n"
   ]
  },
  {
   "cell_type": "markdown",
   "id": "c70b46a0-d891-412a-bbfd-830b84a396aa",
   "metadata": {},
   "source": [
    "Q1]Write a Python program to print the numbers from 1 to 10 using a `for` loop.\n",
    "Ans:"
   ]
  },
  {
   "cell_type": "code",
   "execution_count": 2,
   "id": "33af08db-ab5a-461d-a6b6-1a1f9e364d24",
   "metadata": {},
   "outputs": [
    {
     "name": "stdout",
     "output_type": "stream",
     "text": [
      "0\n",
      "1\n",
      "2\n",
      "3\n",
      "4\n",
      "5\n",
      "6\n",
      "7\n",
      "8\n",
      "9\n"
     ]
    }
   ],
   "source": [
    "for i in range(10):\n",
    " print(i)\n"
   ]
  },
  {
   "cell_type": "markdown",
   "id": "89a09c84-ad64-4346-89dc-a5e42721f5d8",
   "metadata": {},
   "source": [
    "Q2]Create a program that calculates the sum of all numbers in a list using a `for` loop."
   ]
  },
  {
   "cell_type": "code",
   "execution_count": 3,
   "id": "e97f6121-6458-4cde-a6e9-68291563c2a3",
   "metadata": {},
   "outputs": [
    {
     "name": "stdin",
     "output_type": "stream",
     "text": [
      "How many numbers:  10\n",
      "Enter number  3\n",
      "Enter number  56\n",
      "Enter number  45\n",
      "Enter number  23\n",
      "Enter number  23\n",
      "Enter number  23\n",
      "Enter number  25\n",
      "Enter number  35\n",
      "Enter number  68\n",
      "Enter number  68\n"
     ]
    },
    {
     "name": "stdout",
     "output_type": "stream",
     "text": [
      "Sum of elements in given list is : 369\n"
     ]
    }
   ],
   "source": [
    "\n",
    "lst = []\n",
    "num = int(input('How many numbers: '))\n",
    "for n in range(num):\n",
    "    numbers = int(input('Enter number '))\n",
    "    lst.append(numbers)\n",
    "print(\"Sum of elements in given list is :\", sum(lst))\n",
    "\n"
   ]
  },
  {
   "cell_type": "markdown",
   "id": "4287fc46-b96e-47c0-869a-e496f9791eb1",
   "metadata": {},
   "source": [
    "Q3]Write a program to print the characters of a string in reverse order using a `for` loop."
   ]
  },
  {
   "cell_type": "code",
   "execution_count": 4,
   "id": "80c55278-ed1b-4dd3-85f7-c4319f987d09",
   "metadata": {},
   "outputs": [
    {
     "name": "stdout",
     "output_type": "stream",
     "text": [
      "The original string is:  nishigandha\n",
      "The reverse string is ahdnagihsin\n"
     ]
    }
   ],
   "source": [
    "def reverse_string(str):  \n",
    "    str1 = \"\"   # Declaring empty string to store the reversed string  \n",
    "    for i in str:  \n",
    "        str1 = i + str1  \n",
    "    return str1    # It will return the reverse string to the caller function  \n",
    "     \n",
    "str = \"nishigandha\"    # Given String       \n",
    "print(\"The original string is: \",str)  \n",
    "print(\"The reverse string is\",reverse_string(str)) # Function call  \n"
   ]
  },
  {
   "cell_type": "markdown",
   "id": "fa6153e4-76ff-4cde-8714-d6b83f846921",
   "metadata": {},
   "source": [
    " 4. Develop a program that finds the factorial of a given number using a `for` loop"
   ]
  },
  {
   "cell_type": "code",
   "execution_count": 5,
   "id": "ee381356-e4e9-4123-a713-18dccda59977",
   "metadata": {},
   "outputs": [
    {
     "name": "stdin",
     "output_type": "stream",
     "text": [
      "Enter a number:  23\n"
     ]
    },
    {
     "name": "stdout",
     "output_type": "stream",
     "text": [
      "Factorial of the given number is:  25852016738884976640000\n"
     ]
    }
   ],
   "source": [
    "n = int (input (\"Enter a number: \"))\n",
    "factorial = 1\n",
    "if n >= 1:\n",
    "    for i in range (1, n+1):\n",
    "        factorial=factorial *i\n",
    "print(\"Factorial of the given number is: \", factorial)"
   ]
  },
  {
   "cell_type": "markdown",
   "id": "19a973c5-63ab-46fa-a75e-9db1b8bc9739",
   "metadata": {},
   "source": [
    "5.Create a program to print the multiplication table of a given number using a `for` loop."
   ]
  },
  {
   "cell_type": "code",
   "execution_count": 6,
   "id": "2adce2d7-5e6e-4315-997c-1a4ff69882a5",
   "metadata": {},
   "outputs": [
    {
     "name": "stdout",
     "output_type": "stream",
     "text": [
      "12 x 1 = 12\n",
      "12 x 2 = 24\n",
      "12 x 3 = 36\n",
      "12 x 4 = 48\n",
      "12 x 5 = 60\n",
      "12 x 6 = 72\n",
      "12 x 7 = 84\n",
      "12 x 8 = 96\n",
      "12 x 9 = 108\n",
      "12 x 10 = 120\n"
     ]
    }
   ],
   "source": [
    "\n",
    "num = 12\n",
    "\n",
    "for i in range(1, 11):\n",
    "   print(num, 'x', i, '=', num*i)\n"
   ]
  },
  {
   "cell_type": "markdown",
   "id": "2a66638d-858b-4638-b74f-4a21a0f20cc4",
   "metadata": {},
   "source": [
    "6.Write a program that counts the number of even and odd numbers in a list using a `for` loop."
   ]
  },
  {
   "cell_type": "code",
   "execution_count": 7,
   "id": "c810e13a-f7c1-4d33-aebf-bb2a09c7cdc2",
   "metadata": {},
   "outputs": [
    {
     "name": "stdout",
     "output_type": "stream",
     "text": [
      "Even numbers in the list:  3\n",
      "Odd numbers in the list:  4\n"
     ]
    }
   ],
   "source": [
    "\n",
    "# Python program to count Even\n",
    "# and Odd numbers in a List\n",
    " \n",
    "# list of numbers\n",
    "list1 = [10, 21, 4, 45, 66, 93, 1]\n",
    " \n",
    "even_count, odd_count = 0, 0\n",
    " \n",
    "# iterating each number in list\n",
    "for num in list1:\n",
    " \n",
    "    # checking condition\n",
    "    if num % 2 == 0:\n",
    "        even_count += 1\n",
    " \n",
    "    else:\n",
    "        odd_count += 1\n",
    " \n",
    "print(\"Even numbers in the list: \", even_count)\n",
    "print(\"Odd numbers in the list: \", odd_count)"
   ]
  },
  {
   "cell_type": "markdown",
   "id": "6707a97b-869e-47c5-840d-c0e43bc82419",
   "metadata": {},
   "source": [
    "7.Develop a program that prints the squares of numbers from 1 to 5 using a `for` loop."
   ]
  },
  {
   "cell_type": "code",
   "execution_count": 8,
   "id": "22c42a10-906b-4e5c-b89a-604885cd8f87",
   "metadata": {},
   "outputs": [
    {
     "name": "stdout",
     "output_type": "stream",
     "text": [
      "1\n",
      "4\n",
      "9\n",
      "16\n",
      "25\n"
     ]
    }
   ],
   "source": [
    "for i in range(1,6,1):\n",
    " print(i*i)\n"
   ]
  },
  {
   "cell_type": "markdown",
   "id": "14dd19cc-0f1a-4bc8-affa-a215e9d87900",
   "metadata": {},
   "source": [
    "8. Create a program to find the length of a string without using the `len()` function. "
   ]
  },
  {
   "cell_type": "code",
   "execution_count": 9,
   "id": "4fd562da-7bc8-44bf-9e31-b06012d9a043",
   "metadata": {},
   "outputs": [
    {
     "name": "stdout",
     "output_type": "stream",
     "text": [
      "5\n"
     ]
    }
   ],
   "source": [
    "string = 'Hello'\n",
    "\n",
    "count = 0\n",
    "\n",
    "for i in string:\n",
    " \n",
    "    count+=1\n",
    "print(count)\n"
   ]
  },
  {
   "cell_type": "markdown",
   "id": "7f5ed7a8-9f86-480f-9439-057e90a28d4c",
   "metadata": {},
   "source": [
    "9. Write a program that calculates the average of a list of numbers using a `for` loop."
   ]
  },
  {
   "cell_type": "code",
   "execution_count": 11,
   "id": "6c3a905c-b27a-4616-8360-790b9607d264",
   "metadata": {},
   "outputs": [
    {
     "name": "stdout",
     "output_type": "stream",
     "text": [
      "Average of the list = 35.75\n"
     ]
    }
   ],
   "source": [
    "def Average(lst):\n",
    "    return sum(lst) / len(lst)\n",
    " \n",
    "# Driver Code\n",
    "lst = [15, 9, 55, 41, 35, 20, 62, 49]\n",
    "average = Average(lst)\n",
    " \n",
    "# Printing average of the list\n",
    "print(\"Average of the list =\", round(average, 2))"
   ]
  },
  {
   "cell_type": "markdown",
   "id": "2c7ee159-7b7b-403e-8468-a3b5edbfb095",
   "metadata": {},
   "source": [
    " 10. Develop a program that prints the first `n` Fibonacci numbers using a `for` loop"
   ]
  },
  {
   "cell_type": "code",
   "execution_count": 12,
   "id": "f2607e51-9603-4886-bb4d-02043f1c1849",
   "metadata": {},
   "outputs": [
    {
     "name": "stdout",
     "output_type": "stream",
     "text": [
      "0\n",
      "1\n",
      "1\n",
      "2\n",
      "3\n",
      "5\n",
      "8\n"
     ]
    }
   ],
   "source": [
    "first = 0\n",
    "second = 1\n",
    "print(first)\n",
    "print(second)\n",
    "for x in range(1,6):\n",
    "    third = first + second\n",
    "    print(third)\n",
    "    first,second=second,third\n"
   ]
  },
  {
   "cell_type": "markdown",
   "id": "e2a5bf9f-5d19-4f6f-afed-ec3a79189d02",
   "metadata": {},
   "source": [
    "Intermediate Level: "
   ]
  },
  {
   "cell_type": "markdown",
   "id": "97e17fac-b72c-43d8-8ed9-7e201bb5ac86",
   "metadata": {},
   "source": [
    "11. Write a program to check if a given list contains any duplicates using a `for` loop"
   ]
  },
  {
   "cell_type": "code",
   "execution_count": 14,
   "id": "22bb0be5-6e29-4421-a0c9-f6d238baaf71",
   "metadata": {},
   "outputs": [
    {
     "name": "stdout",
     "output_type": "stream",
     "text": [
      "[1, 2, 5, 9]\n"
     ]
    }
   ],
   "source": [
    "\n",
    "list = [1, 2, 1, 2, 3, 4, 5, 1, 1, 2, 5, 6, 7, 8, 9, 9]\n",
    " \n",
    "uniqueList = []\n",
    "duplicateList = []\n",
    " \n",
    "for i in list:\n",
    "    if i not in uniqueList:\n",
    "        uniqueList.append(i)\n",
    "    elif i not in duplicateList:\n",
    "        duplicateList.append(i)\n",
    " \n",
    "print(duplicateList)\n"
   ]
  },
  {
   "cell_type": "markdown",
   "id": "aada1298-096f-4efe-8dad-ab070153fd75",
   "metadata": {},
   "source": [
    "12. Create a program that prints the prime numbers in a given range using a `for` loop"
   ]
  },
  {
   "cell_type": "code",
   "execution_count": 15,
   "id": "cb56b7de-4e1b-43b8-96e3-149161cf3cf2",
   "metadata": {},
   "outputs": [
    {
     "name": "stdout",
     "output_type": "stream",
     "text": [
      "Prime numbers between 1 and 100 are:\n",
      "2\n",
      "3\n",
      "5\n",
      "7\n",
      "11\n",
      "13\n",
      "17\n",
      "19\n",
      "23\n",
      "29\n",
      "31\n",
      "37\n",
      "41\n",
      "43\n",
      "47\n",
      "53\n",
      "59\n",
      "61\n",
      "67\n",
      "71\n",
      "73\n",
      "79\n",
      "83\n",
      "89\n",
      "97\n"
     ]
    }
   ],
   "source": [
    "\n",
    "\n",
    "lower = 1\n",
    "upper = 100\n",
    "\n",
    "print(\"Prime numbers between\", lower, \"and\", upper, \"are:\")\n",
    "\n",
    "for num in range(lower, upper + 1):\n",
    "   # all prime numbers are greater than 1\n",
    "   if num > 1:\n",
    "       for i in range(2, num):\n",
    "           if (num % i) == 0:\n",
    "               break\n",
    "       else:\n",
    "           print(num)\n"
   ]
  },
  {
   "cell_type": "markdown",
   "id": "b2df6ed6-c94e-4700-888e-a933d52b74b4",
   "metadata": {},
   "source": [
    "13. Develop a program that counts the number of vowels in a string using a `for` loop."
   ]
  },
  {
   "cell_type": "code",
   "execution_count": 20,
   "id": "2cac4cc9-fc45-4ab6-9b54-40364d6bd7f1",
   "metadata": {},
   "outputs": [
    {
     "name": "stdout",
     "output_type": "stream",
     "text": [
      "3\n"
     ]
    }
   ],
   "source": [
    "string = \"Harshwardhan!\"\n",
    "vowels = \"aeiouAEIOU\"\n",
    " \n",
    "count = sum(string.count(vowel) for vowel in vowels)\n",
    "print(count)"
   ]
  },
  {
   "cell_type": "markdown",
   "id": "c408cb42-7029-4921-bffa-458bf42c48f7",
   "metadata": {},
   "source": [
    " 14. Write a program to find the maximum element in a 2D list using a nested `for` loop."
   ]
  },
  {
   "cell_type": "code",
   "execution_count": 21,
   "id": "3a242f22-1581-4e1c-8840-f25bf7b6c2bb",
   "metadata": {},
   "outputs": [
    {
     "name": "stdout",
     "output_type": "stream",
     "text": [
      "504\n"
     ]
    }
   ],
   "source": [
    "def prod(list):\n",
    "    maxi = 0\n",
    "     \n",
    "    # traversal in the lists\n",
    "    for x in list:\n",
    "       \n",
    "        p = 1\n",
    "         \n",
    "        # traversal in list of lists\n",
    "        for i in x:\n",
    "            p *= i\n",
    "            maxi = max(p, maxi)\n",
    "    return maxi\n",
    " \n",
    " \n",
    "# driver code\n",
    "l = [[1, 2, 3], [4, 5, 6], [7, 8, 9]]\n",
    "print(prod(l))\n"
   ]
  },
  {
   "cell_type": "markdown",
   "id": "d567a48e-4933-4ca1-9e1e-adb24e157a03",
   "metadata": {},
   "source": [
    "15. Create a program that removes all occurrences of a specific element from a list using a `for` loop."
   ]
  },
  {
   "cell_type": "code",
   "execution_count": 22,
   "id": "2f4020d6-607a-49c5-bfa2-bc9e1280e47c",
   "metadata": {},
   "outputs": [
    {
     "name": "stdout",
     "output_type": "stream",
     "text": [
      "Original list:\n",
      "[10, 20, 10, 30, 10, 40, 10, 50]\n",
      "list after removing elements:\n",
      "[20, 30, 40, 50]\n"
     ]
    }
   ],
   "source": [
    "list = [10, 20, 10, 30, 10, 40, 10, 50]\n",
    "# number (n) to be removed\n",
    "n = 10\n",
    "\n",
    "# print original list \n",
    "print (\"Original list:\")\n",
    "print (list)\n",
    "\n",
    "for x in list:\n",
    "    if x == n:\n",
    "        list.remove(x)\n",
    "\n",
    "# print list after removing given element\n",
    "print (\"list after removing elements:\")\n",
    "print (list)\n"
   ]
  },
  {
   "cell_type": "markdown",
   "id": "ce0ef654-443e-446b-abbc-4cb46c5fad47",
   "metadata": {},
   "source": [
    "16. Develop a program that generates a multiplication table for numbers from 1 to 5 using a nested `for` loop."
   ]
  },
  {
   "cell_type": "code",
   "execution_count": 24,
   "id": "bcc1987d-1816-4c9f-8c90-355ab31d1233",
   "metadata": {},
   "outputs": [
    {
     "name": "stdout",
     "output_type": "stream",
     "text": [
      " 1  2  3  4  5 \n",
      "\n",
      " 2  4  6  8 10 \n",
      "\n",
      " 3  6  9 12 15 \n",
      "\n",
      " 4  8 12 16 20 \n",
      "\n",
      " 5 10 15 20 25 \n",
      "\n",
      " 6 12 18 24 30 \n",
      "\n",
      " 7 14 21 28 35 \n",
      "\n",
      " 8 16 24 32 40 \n",
      "\n",
      " 9 18 27 36 45 \n",
      "\n",
      "10 20 30 40 50 \n",
      "\n"
     ]
    }
   ],
   "source": [
    "rows=10 # Multiplication table up to 10\n",
    "columns=5 # column values \n",
    "for i in range(1,rows+1):\n",
    "    for j in range(1,columns+1):# inner for loop\n",
    "        c=i*j\n",
    "        print(\"{:2d} \".format(c),end='')\n",
    "    print(\"\\n\")  # line break\n"
   ]
  },
  {
   "cell_type": "markdown",
   "id": "276c7bb1-e2ee-4a41-bedb-06f1309e1e67",
   "metadata": {},
   "source": [
    "17. Write a program that converts a list of Fahrenheit temperatures to Celsius using a `for` loop."
   ]
  },
  {
   "cell_type": "markdown",
   "id": "c800e5a4-70ff-4b14-a953-602add70f426",
   "metadata": {},
   "source": [
    "18. Create a program to print the common elements from two lists using a `for` loop."
   ]
  },
  {
   "cell_type": "code",
   "execution_count": 25,
   "id": "5751a252-64b5-4219-8431-ebbdb585ee4e",
   "metadata": {},
   "outputs": [],
   "source": [
    "def common_elements(list1, list2):\n",
    "    result = []\n",
    "    for element in list1:\n",
    "        if element in list2:\n",
    "            result.append(element)\n",
    "    return result\n"
   ]
  },
  {
   "cell_type": "markdown",
   "id": "247827de-53d1-429c-8a9a-c3c849001024",
   "metadata": {},
   "source": [
    "19. Develop a program that prints the pattern of right-angled triangles using a `for` loop. Use ‘*’ to draw the  pattern "
   ]
  },
  {
   "cell_type": "code",
   "execution_count": 27,
   "id": "ca0b9045-e9a3-4923-a7a7-d7a2563fb777",
   "metadata": {},
   "outputs": [
    {
     "name": "stdin",
     "output_type": "stream",
     "text": [
      "Enter the number of rows 10\n"
     ]
    },
    {
     "name": "stdout",
     "output_type": "stream",
     "text": [
      "* \n",
      "* * \n",
      "* * * \n",
      "* * * * \n",
      "* * * * * \n",
      "* * * * * * \n",
      "* * * * * * * \n",
      "* * * * * * * * \n",
      "* * * * * * * * * \n",
      "* * * * * * * * * * \n"
     ]
    }
   ],
   "source": [
    "n = int(input(\"Enter the number of rows\"))  \n",
    "for i in range(0, n):  \n",
    "\n",
    "        for j in range(0, i + 1):  \n",
    "            \n",
    "            print(\"* \", end=\"\")       \n",
    "  \n",
    "        \n",
    "        print()  \n"
   ]
  },
  {
   "cell_type": "markdown",
   "id": "5db06a6d-fa70-42ef-ab98-51976aac2753",
   "metadata": {},
   "source": [
    "20. Write a program to find the greatest common divisor (GCD) of two numbers using a `for` loop. "
   ]
  },
  {
   "cell_type": "code",
   "execution_count": 28,
   "id": "851166e0-7f7d-47ce-9601-2405236988ac",
   "metadata": {},
   "outputs": [
    {
     "name": "stdout",
     "output_type": "stream",
     "text": [
      "GCD of 36 and 60 is 12\n"
     ]
    }
   ],
   "source": [
    "num1 = 36\n",
    "num2 = 60\n",
    "gcd = 1\n",
    "\n",
    "for i in range(1, min(num1, num2)):\n",
    "    if num1 % i == 0 and num2 % i == 0:\n",
    "        gcd = i\n",
    "print(\"GCD of\", num1, \"and\", num2, \"is\", gcd)\n"
   ]
  },
  {
   "cell_type": "markdown",
   "id": "29c8f018-6ec8-48e8-8a65-485c992f3845",
   "metadata": {},
   "source": [
    "  Advanced level:"
   ]
  },
  {
   "cell_type": "markdown",
   "id": "ab73d820-d710-4add-9e4e-6b56b19b3082",
   "metadata": {},
   "source": [
    "21. Create a program that calculates the sum of the digits of numbers in a list using a list comprehension."
   ]
  },
  {
   "cell_type": "code",
   "execution_count": 31,
   "id": "a721cfa5-cbaf-4993-acd1-81e648339f54",
   "metadata": {},
   "outputs": [
    {
     "name": "stdout",
     "output_type": "stream",
     "text": [
      "Sum of all elements in given list:  74\n"
     ]
    }
   ],
   "source": [
    "total = 0\n",
    " \n",
    "# creating a list\n",
    "list1 = [11, 5, 17, 18, 23]\n",
    " \n",
    "# Iterate each element in list\n",
    "# and add them in variable total\n",
    "for ele in range(0, len(list1)):\n",
    "    total = total + list1[ele]\n",
    " \n",
    "# printing total value\n",
    "print(\"Sum of all elements in given list: \", total)"
   ]
  },
  {
   "cell_type": "markdown",
   "id": "9f8926d1-54b3-42b7-a8f3-377499905196",
   "metadata": {},
   "source": [
    "22. Write a program to find the prime factors of a given number using a `for` loop and list comprehension."
   ]
  },
  {
   "cell_type": "code",
   "execution_count": 32,
   "id": "9d8af82d-2fbb-45d0-859c-4ee7fdb4bfe4",
   "metadata": {},
   "outputs": [
    {
     "name": "stdout",
     "output_type": "stream",
     "text": [
      "The factors of 400 are:\n",
      "1\n",
      "2\n",
      "4\n",
      "5\n",
      "8\n",
      "10\n",
      "16\n",
      "20\n",
      "25\n",
      "40\n",
      "50\n",
      "80\n",
      "100\n",
      "200\n",
      "400\n"
     ]
    }
   ],
   "source": [
    "def print_factors(x):\n",
    "   print(\"The factors of\",x,\"are:\")\n",
    "   for i in range(1, x + 1):\n",
    "       if x % i == 0:\n",
    "           print(i)\n",
    "\n",
    "num = 400\n",
    "\n",
    "print_factors(num)\n"
   ]
  },
  {
   "cell_type": "markdown",
   "id": "82ed13a0-e6cb-4a28-848a-35fa056ef6a4",
   "metadata": {},
   "source": [
    " 23. Develop a program that extracts unique elements from a list and stores them in a new list using a list  comprehension. "
   ]
  },
  {
   "cell_type": "code",
   "execution_count": 34,
   "id": "ccab7dd7-e50b-4ce2-adb9-77f0ef04d1e7",
   "metadata": {},
   "outputs": [
    {
     "name": "stdout",
     "output_type": "stream",
     "text": [
      "Unique elements of the list using append():\n",
      "\n",
      "100\n",
      "75\n",
      "20\n",
      "12\n",
      "25\n"
     ]
    }
   ],
   "source": [
    " list_inp = [100, 75, 100, 20, 75, 12, 75, 25] \n",
    "\n",
    "res_list = []\n",
    "\n",
    "for item in list_inp: \n",
    "    if item not in res_list: \n",
    "        res_list.append(item) \n",
    "\n",
    "print(\"Unique elements of the list using append():\\n\")    \n",
    "for item in res_list: \n",
    "    print(item) \n"
   ]
  },
  {
   "cell_type": "markdown",
   "id": "19c6a95c-01bd-4c47-ba29-fe7a6fb021ed",
   "metadata": {},
   "source": [
    "24. Create a program that generates a list of all palindromic numbers up to a specified limit using a list  comprehension. "
   ]
  },
  {
   "cell_type": "code",
   "execution_count": 39,
   "id": "00b4a217-1ced-4650-9f5f-45f295dedf0c",
   "metadata": {},
   "outputs": [],
   "source": [
    "def palindromeNumbers(list_a):\n",
    " \n",
    "    c = 0\n",
    " \n",
    "    # loop till list is not empty\n",
    "    for i in list_a:\n",
    " \n",
    "        # Find reverse of current number\n",
    "        t = i\n",
    "        rev = 0\n",
    "        while t > 0:\n",
    "            rev = rev * 10 + t % 10\n",
    "            t = t // 10\n",
    " \n",
    "        # compare rev with the current number\n",
    "        if rev == i:\n",
    "            print(i)\n",
    "            c = c + 1\n",
    " \n",
    "    print()\n",
    "    print(\"Total palindrome nos. are\", c)\n",
    "    print()\n",
    " "
   ]
  },
  {
   "cell_type": "markdown",
   "id": "34fb9a21-8fc1-4552-be06-7464945893df",
   "metadata": {},
   "source": [
    "26. Develop a program that computes the sum of even and odd numbers in a list separately using list  comprehension. "
   ]
  },
  {
   "cell_type": "code",
   "execution_count": 46,
   "id": "53fd0fab-65a3-4854-a85f-c3765fd4c554",
   "metadata": {},
   "outputs": [
    {
     "name": "stdout",
     "output_type": "stream",
     "text": [
      "Enter the size of list: "
     ]
    },
    {
     "name": "stdin",
     "output_type": "stream",
     "text": [
      " 10\n"
     ]
    },
    {
     "name": "stdout",
     "output_type": "stream",
     "text": [
      "Enter 10 Elements for the list: "
     ]
    },
    {
     "name": "stdin",
     "output_type": "stream",
     "text": [
      " 5\n",
      " 8\n",
      " 9\n",
      " 5\n",
      " 3\n",
      " 8\n",
      " 7\n",
      " 1\n",
      " 2\n",
      " 7\n"
     ]
    },
    {
     "name": "stdout",
     "output_type": "stream",
     "text": [
      "\n",
      "Sum of Even Numbers = 18\n",
      "Sum of Odd Numbers = 37\n"
     ]
    }
   ],
   "source": [
    "nums = []\n",
    "sumeven = 0\n",
    "counteven = 0\n",
    "sumodd = 0\n",
    "countodd = 0\n",
    "\n",
    "print(\"Enter the size of list: \", end=\"\")\n",
    "tot = int(input())\n",
    "print(\"Enter\", tot, \"Elements for the list: \", end=\"\")\n",
    "for i in range(tot):\n",
    "    nums.append(int(input()))\n",
    "    if nums[i]%2 == 0:\n",
    "        sumeven = sumeven + nums[i]\n",
    "        counteven = counteven + 1\n",
    "    else:\n",
    "        sumodd = sumodd + nums[i]\n",
    "        countodd = countodd + 1\n",
    "\n",
    "if counteven==0:\n",
    "    print(\"\\nEven number is not found in this list!\")\n",
    "else:\n",
    "    print(\"\\nSum of Even Numbers =\", sumeven)\n",
    "if countodd==0:\n",
    "    print(\"Odd number is not found in this list!\")\n",
    "else:\n",
    "    print(\"Sum of Odd Numbers =\", sumodd)"
   ]
  },
  {
   "cell_type": "markdown",
   "id": "d84b5f8d-1751-4d25-a6ab-910f8841123c",
   "metadata": {},
   "source": [
    "27. Create a program that generates a list of squares of odd numbers between 1 and 10 using list  comprehension"
   ]
  },
  {
   "cell_type": "code",
   "execution_count": 48,
   "id": "0421ea7f-2a6b-4041-bdd5-515bbb5f6839",
   "metadata": {},
   "outputs": [
    {
     "name": "stdout",
     "output_type": "stream",
     "text": [
      "[1, 9, 25, 49, 81]\n"
     ]
    }
   ],
   "source": [
    "# create a list with 10 integer elements\n",
    "data=[1,2,3,4,5,6,7,8,9,10]\n",
    " \n",
    "# use list comprehension to get square\n",
    "# of odd numbers\n",
    "result = [i*i for i in data if i%2!=0]\n",
    "\n",
    "# display the result\n",
    "print(result)\n"
   ]
  },
  {
   "cell_type": "markdown",
   "id": "5845feec-1cab-424b-a56d-a6cd83cda262",
   "metadata": {},
   "source": [
    "28. Write a program that combines two lists into a dictionary using list comprehension"
   ]
  },
  {
   "cell_type": "code",
   "execution_count": 49,
   "id": "ffba5b02-779d-4fe7-a8ac-631cdc8461e6",
   "metadata": {},
   "outputs": [
    {
     "name": "stdout",
     "output_type": "stream",
     "text": [
      "Keys List: ['Name', 'Age', 'Gender', 'Country']\n",
      "Values List: ['James', 32, 'Male', 'United States']\n",
      "Dictionary: {'Name': 'James', 'Age': 32, 'Gender': 'Male', 'Country': 'United States'}\n"
     ]
    }
   ],
   "source": [
    "keys_list = ['Name', 'Age', 'Gender', 'Country']\n",
    "values_list = ['James', 32, 'Male', 'United States']\n",
    "\n",
    "# Defining a dictionary\n",
    "info_dict = {}\n",
    "\n",
    "# Another way to defining a dictionary\n",
    "# info_dict = dict()\n",
    "\n",
    "# Using for loop to form a dictionary\n",
    "for i in range(len(keys_list)):\n",
    "    info_dict[keys_list[i]] = values_list[i]\n",
    "    \n",
    "# Printing lists\n",
    "print('Keys List:', keys_list)\n",
    "print('Values List:', values_list)\n",
    "\n",
    "# Printing dictionary\n",
    "print('Dictionary:', info_dict)\n"
   ]
  },
  {
   "cell_type": "markdown",
   "id": "72b65382-362c-4227-80d7-cd939fdd6bf6",
   "metadata": {},
   "source": [
    "29. Develop a program that extracts the vowels from a string and stores them in a list using list comprehension."
   ]
  },
  {
   "cell_type": "code",
   "execution_count": 54,
   "id": "7ae22fa9-cb3b-4286-8be5-1e9de74941cc",
   "metadata": {},
   "outputs": [
    {
     "ename": "TabError",
     "evalue": "inconsistent use of tabs and spaces in indentation (2051775724.py, line 8)",
     "output_type": "error",
     "traceback": [
      "\u001b[0;36m  Cell \u001b[0;32mIn[54], line 8\u001b[0;36m\u001b[0m\n\u001b[0;31m    count = count + 1\u001b[0m\n\u001b[0m    ^\u001b[0m\n\u001b[0;31mTabError\u001b[0m\u001b[0;31m:\u001b[0m inconsistent use of tabs and spaces in indentation\n"
     ]
    }
   ],
   "source": [
    "text = input('Enter text: ')\n",
    " \n",
    "count = 0\n",
    "\n",
    "for char in text:\n",
    "    if char.lower() in 'aeiou':\n",
    "    \tprint(char)   \t\t\n",
    "        count = count + 1\n",
    "print(\"No. of vowels:\", count)   "
   ]
  },
  {
   "cell_type": "markdown",
   "id": "5ca76195-746b-42b6-9a33-ab27185da478",
   "metadata": {},
   "source": [
    "30. Create a program that removes all non-numeric characters from a list of strings using list comprehension.   "
   ]
  },
  {
   "cell_type": "code",
   "execution_count": 57,
   "id": "65f40e3e-e349-49ec-9ea5-33dfca323e8d",
   "metadata": {},
   "outputs": [],
   "source": [
    "import re\n",
    "my_list = ['Judy 88 5', 'animal 91 5', 'Mo 86 5', 'Geno 87 6', 'exhaled 87 6']\n",
    "regex = re.compile(r'\\b\\d\\d\\b')\n",
    "my_list = [regex.search(i).group() for i in my_list]\n"
   ]
  },
  {
   "cell_type": "markdown",
   "id": "2b369b0b-0a68-4e85-a077-940d8004095c",
   "metadata": {},
   "source": [
    "31. Write a program to generate a list of prime numbers using the Sieve of Eratosthenes algorithm and list  comprehension"
   ]
  },
  {
   "cell_type": "code",
   "execution_count": 58,
   "id": "686a45af-0cce-447f-a517-9e443fe03345",
   "metadata": {},
   "outputs": [
    {
     "name": "stdout",
     "output_type": "stream",
     "text": [
      "2\n",
      "3\n",
      "5\n",
      "7\n",
      "11\n",
      "13\n",
      "17\n",
      "19\n",
      "23\n",
      "29\n",
      "31\n",
      "37\n",
      "41\n",
      "43\n",
      "47\n",
      "53\n",
      "59\n",
      "61\n",
      "67\n",
      "71\n",
      "73\n",
      "79\n",
      "83\n",
      "89\n",
      "97\n",
      "None\n"
     ]
    }
   ],
   "source": [
    "def prime_eratosthenes(n):\n",
    "    prime_list = []\n",
    "    for i in range(2, n+1):\n",
    "        if i not in prime_list:\n",
    "            print (i)\n",
    "            for j in range(i*i, n+1, i):\n",
    "                prime_list.append(j)\n",
    "\n",
    "print(prime_eratosthenes(100));\n"
   ]
  },
  {
   "cell_type": "markdown",
   "id": "1648e1d2-650a-431c-9751-f53f6d4b0e2a",
   "metadata": {},
   "source": [
    "32. Create a program that generates a list of all Pythagorean triplets up to a specified limit using list  comprehension."
   ]
  },
  {
   "cell_type": "code",
   "execution_count": 62,
   "id": "5d29193c-815b-482c-9d5a-f48d26fe053e",
   "metadata": {},
   "outputs": [],
   "source": [
    "def triplet(n): # Find all the Pythagorean triplets between 1 and n (inclusive)\n",
    "  for a in range(n+1):\n",
    "    for b in range(a):\n",
    "      for c in range(b):\n",
    "        if a*a == b*b + c*c:\n",
    "          print(a, b, c)\n"
   ]
  },
  {
   "cell_type": "markdown",
   "id": "e6405255-5670-4b15-bd5f-7b7ff335ac84",
   "metadata": {},
   "source": [
    "33. Develop a program that generates a list of all possible combinations of two lists using list comprehension."
   ]
  },
  {
   "cell_type": "code",
   "execution_count": 63,
   "id": "74e7a622-ac83-4eae-8dc3-b57113293ac6",
   "metadata": {},
   "outputs": [
    {
     "name": "stdout",
     "output_type": "stream",
     "text": [
      "[2, 8, 4, 6, 24, 12, 7, 28, 14, 3, 12, 6]\n"
     ]
    }
   ],
   "source": [
    "list_1 = [2, 6, 7, 3]\n",
    "list_2 = [1, 4, 2]\n",
    "\n",
    "list_3 = [ x * y for x in list_1 for y in list_2 ]\n",
    "\n",
    "print(list_3)\n"
   ]
  },
  {
   "cell_type": "markdown",
   "id": "e2f30248-ba5d-46ac-9e81-965d65cc9ad1",
   "metadata": {},
   "source": [
    " 34. Write a program that calculates the mean, median, and mode of a list of numbers using list  comprehension"
   ]
  },
  {
   "cell_type": "markdown",
   "id": "0e311008-d6a8-43ac-948b-0866690da5f4",
   "metadata": {},
   "source": [
    "\n",
    "35. Create a program that generates Pascal's triangle up to a specified number of rows using list  comprehension"
   ]
  },
  {
   "cell_type": "code",
   "execution_count": 70,
   "id": "4fa22150-e012-423f-928c-77538187e3f1",
   "metadata": {},
   "outputs": [
    {
     "name": "stdout",
     "output_type": "stream",
     "text": [
      "      1 \n",
      "     1 1 \n",
      "    1 2 1 \n",
      "   1 3 3 1 \n",
      "  1 4 6 4 1 \n"
     ]
    }
   ],
   "source": [
    "from math import factorial\n",
    " \n",
    "# input n\n",
    "n = 5\n",
    "for i in range(n):\n",
    "    for j in range(n-i+1):\n",
    " \n",
    "        # for left spacing\n",
    "        print(end=\" \")\n",
    " \n",
    "    for j in range(i+1):\n",
    " \n",
    "        # nCr = n!/((n-r)!*r!)\n",
    "        print(factorial(i)//(factorial(j)*factorial(i-j)), end=\" \")\n",
    " \n",
    "    # for new line\n",
    "    print()\n"
   ]
  },
  {
   "cell_type": "markdown",
   "id": "045f08df-7e92-4238-a525-6768965c3c19",
   "metadata": {},
   "source": [
    "36. Develop a program that calculates the sum of the digits of a factorial of numbers from 1 to 5 using list  comprehension. "
   ]
  },
  {
   "cell_type": "code",
   "execution_count": 71,
   "id": "653f40e6-0fb8-47ab-a748-49db334bcdc1",
   "metadata": {},
   "outputs": [],
   "source": [
    "def sum_of_digits_factorial(n):\n",
    "    fact = 1\n",
    "    for i in range(1, 6):\n",
    "        fact *= i\n",
    "    sum_of_digits = 0\n",
    "    for digit in str(fact):\n",
    "        sum_of_digits += int(digit)\n",
    "    return sum_of_digits\n"
   ]
  },
  {
   "cell_type": "markdown",
   "id": "fa570581-ab49-4e82-b0e1-b378a485ff75",
   "metadata": {},
   "source": [
    "37. Write a program that finds the longest word in a sentence using list comprehension.\n"
   ]
  },
  {
   "cell_type": "code",
   "execution_count": 73,
   "id": "43c7b583-6e1c-409b-acc7-15268960273e",
   "metadata": {},
   "outputs": [
    {
     "name": "stdout",
     "output_type": "stream",
     "text": [
      "The word with the longest length is: third  and length is  5\n"
     ]
    }
   ],
   "source": [
    "def longestLength(a):\n",
    "    max1 = len(a[0])\n",
    "    temp = a[0]\n",
    " \n",
    "    # for loop to traverse the list\n",
    "    for i in a:\n",
    "        if(len(i) > max1):\n",
    " \n",
    "            max1 = len(i)\n",
    "            temp = i\n",
    " \n",
    "    print(\"The word with the longest length is:\", temp,\n",
    "          \" and length is \", max1)\n",
    " \n",
    " \n",
    "# Driver Program\n",
    "a = [\"one\", \"two\", \"third\", \"four\"]\n",
    "longestLength(a)\n"
   ]
  },
  {
   "cell_type": "markdown",
   "id": "6d08732a-3299-4de4-afb1-36bad57b01d0",
   "metadata": {},
   "source": [
    "\n",
    "38. Create a program that filters a list of strings to include only those with more than three vowels using list  comprehension. \n"
   ]
  },
  {
   "cell_type": "code",
   "execution_count": 79,
   "id": "b9591522-9e90-454e-bad9-9aff6a4498f3",
   "metadata": {},
   "outputs": [
    {
     "ename": "TypeError",
     "evalue": "'str' object is not callable",
     "output_type": "error",
     "traceback": [
      "\u001b[0;31m---------------------------------------------------------------------------\u001b[0m",
      "\u001b[0;31mTypeError\u001b[0m                                 Traceback (most recent call last)",
      "Cell \u001b[0;32mIn[79], line 5\u001b[0m\n\u001b[1;32m      2\u001b[0m test_list \u001b[38;5;241m=\u001b[39m [\u001b[38;5;124m\"\u001b[39m\u001b[38;5;124maditi\u001b[39m\u001b[38;5;124m\"\u001b[39m, \u001b[38;5;124m\"\u001b[39m\u001b[38;5;124mnishigandha\u001b[39m\u001b[38;5;124m\"\u001b[39m, \u001b[38;5;124m\"\u001b[39m\u001b[38;5;124mvishal\u001b[39m\u001b[38;5;124m\"\u001b[39m, \u001b[38;5;124m\"\u001b[39m\u001b[38;5;124mamol\u001b[39m\u001b[38;5;124m\"\u001b[39m]\n\u001b[1;32m      4\u001b[0m \u001b[38;5;66;03m# Printing original list\u001b[39;00m\n\u001b[0;32m----> 5\u001b[0m \u001b[38;5;28mprint\u001b[39m(\u001b[38;5;124m\"\u001b[39m\u001b[38;5;124mThe original list is : \u001b[39m\u001b[38;5;124m\"\u001b[39m \u001b[38;5;241m+\u001b[39m \u001b[38;5;28;43mstr\u001b[39;49m\u001b[43m(\u001b[49m\u001b[43mtest_list\u001b[49m\u001b[43m)\u001b[49m)\n\u001b[1;32m      7\u001b[0m res \u001b[38;5;241m=\u001b[39m \u001b[38;5;124m\"\u001b[39m\u001b[38;5;124m\"\u001b[39m\n\u001b[1;32m      8\u001b[0m max_len \u001b[38;5;241m=\u001b[39m \u001b[38;5;241m0\u001b[39m\n",
      "\u001b[0;31mTypeError\u001b[0m: 'str' object is not callable"
     ]
    }
   ],
   "source": [
    "# Initializing Matrix\n",
    "test_list = [\"aditi\", \"nishigandha\", \"vishal\", \"amol\"]\n",
    " \n",
    "# Printing original list\n",
    "print(\"The original list is : \" + str(test_list))\n",
    " \n",
    "res = \"\"\n",
    "max_len = 0\n",
    " \n",
    "for ele in test_list:\n",
    " \n",
    "    # Getting maximum length and element iteratively\n",
    "    vow_len = len([el for el in ele if el in ['a', 'e', 'o', 'u', 'i']])\n",
    "     \n",
    "    if vow_len > max_len:\n",
    "        max_len = vow_len\n",
    "        res = ele\n",
    " \n",
    "# Printing result\n",
    "print(\"Maximum vowels word : \" + str(res))\n"
   ]
  },
  {
   "cell_type": "code",
   "execution_count": 76,
   "id": "7851183b-7d56-4f18-ba05-6b9f37a2dfef",
   "metadata": {},
   "outputs": [
    {
     "ename": "TypeError",
     "evalue": "'str' object is not callable",
     "output_type": "error",
     "traceback": [
      "\u001b[0;31m---------------------------------------------------------------------------\u001b[0m",
      "\u001b[0;31mTypeError\u001b[0m                                 Traceback (most recent call last)",
      "Cell \u001b[0;32mIn[76], line 12\u001b[0m\n\u001b[1;32m      9\u001b[0m start_letter \u001b[38;5;241m=\u001b[39m \u001b[38;5;124m'\u001b[39m\u001b[38;5;124ms\u001b[39m\u001b[38;5;124m'\u001b[39m\n\u001b[1;32m     11\u001b[0m \u001b[38;5;66;03m# printing original list\u001b[39;00m\n\u001b[0;32m---> 12\u001b[0m \u001b[38;5;28mprint\u001b[39m(\u001b[38;5;124m\"\u001b[39m\u001b[38;5;124mThe original list : \u001b[39m\u001b[38;5;124m\"\u001b[39m \u001b[38;5;241m+\u001b[39m \u001b[38;5;28;43mstr\u001b[39;49m\u001b[43m(\u001b[49m\u001b[43mtest_list\u001b[49m\u001b[43m)\u001b[49m)\n\u001b[1;32m     14\u001b[0m \u001b[38;5;66;03m# using list comprehension + startswith()\u001b[39;00m\n\u001b[1;32m     15\u001b[0m \u001b[38;5;66;03m# Prefix Separation\u001b[39;00m\n\u001b[1;32m     16\u001b[0m with_s \u001b[38;5;241m=\u001b[39m [x \u001b[38;5;28;01mfor\u001b[39;00m x \u001b[38;5;129;01min\u001b[39;00m test_list \u001b[38;5;28;01mif\u001b[39;00m x\u001b[38;5;241m.\u001b[39mstartswith(start_letter)]\n",
      "\u001b[0;31mTypeError\u001b[0m: 'str' object is not callable"
     ]
    }
   ],
   "source": []
  },
  {
   "cell_type": "markdown",
   "id": "db509af0-c7d7-4a59-9662-56308be12ac6",
   "metadata": {},
   "source": [
    "39. Develop a program that calculates the sum of the digits of numbers from 1 to 1000 using list  comprehension"
   ]
  },
  {
   "cell_type": "code",
   "execution_count": 81,
   "id": "d2382aa7-207c-442f-877d-ab1edccf9da2",
   "metadata": {},
   "outputs": [
    {
     "name": "stdout",
     "output_type": "stream",
     "text": [
      "500500\n"
     ]
    }
   ],
   "source": [
    "sum = 0 \n",
    "for i in range(1,1001): \n",
    "\tsum += i \n",
    "print(sum)\n"
   ]
  },
  {
   "cell_type": "markdown",
   "id": "60a816f0-9b33-4d9b-b504-fb65fe47bec9",
   "metadata": {},
   "source": [
    "40. Write a program that generates a list of prime palindromic numbers using list comprehension."
   ]
  },
  {
   "cell_type": "code",
   "execution_count": 83,
   "id": "36f23cc8-49ae-49f3-ac1d-4f565939eb47",
   "metadata": {},
   "outputs": [
    {
     "name": "stdout",
     "output_type": "stream",
     "text": [
      "121\n",
      "141\n",
      "252\n",
      "\n",
      "Total palindrome nos. are 3\n",
      "\n",
      "111\n",
      "565\n",
      "787\n",
      "363\n",
      "\n",
      "Total palindrome nos. are 4\n",
      "\n"
     ]
    }
   ],
   "source": [
    "def palindromeNumbers(list_a):\n",
    " \n",
    "    c = 0\n",
    " \n",
    "    # loop till list is not empty\n",
    "    for i in list_a:\n",
    " \n",
    "        # Find reverse of current number\n",
    "        t = i\n",
    "        rev = 0\n",
    "        while t > 0:\n",
    "            rev = rev * 10 + t % 10\n",
    "            t = t // 10\n",
    " \n",
    "        # compare rev with the current number\n",
    "        if rev == i:\n",
    "            print(i)\n",
    "            c = c + 1\n",
    " \n",
    "    print()\n",
    "    print(\"Total palindrome nos. are\", c)\n",
    "    print()\n",
    " \n",
    "# Driver code\n",
    " \n",
    " \n",
    "def main():\n",
    " \n",
    "    list_a = [10, 121, 133, 155, 141, 252]\n",
    "    palindromeNumbers(list_a)\n",
    " \n",
    "    list_b = [111, 220, 784, 565, 498, 787, 363]\n",
    "    palindromeNumbers(list_b)\n",
    " \n",
    " \n",
    "if __name__ == \"__main__\":\n",
    "    main()             # main function call\n"
   ]
  },
  {
   "cell_type": "code",
   "execution_count": null,
   "id": "423abcd9-c979-492f-aa75-b9c011063441",
   "metadata": {},
   "outputs": [],
   "source": []
  }
 ],
 "metadata": {
  "kernelspec": {
   "display_name": "Python 3 (ipykernel)",
   "language": "python",
   "name": "python3"
  },
  "language_info": {
   "codemirror_mode": {
    "name": "ipython",
    "version": 3
   },
   "file_extension": ".py",
   "mimetype": "text/x-python",
   "name": "python",
   "nbconvert_exporter": "python",
   "pygments_lexer": "ipython3",
   "version": "3.10.8"
  }
 },
 "nbformat": 4,
 "nbformat_minor": 5
}
